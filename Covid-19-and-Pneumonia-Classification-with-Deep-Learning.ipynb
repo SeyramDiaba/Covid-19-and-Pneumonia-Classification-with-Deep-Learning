{
 "cells": [
  {
   "cell_type": "markdown",
   "id": "ad37b268",
   "metadata": {},
   "source": [
    "## Import Libraries"
   ]
  },
  {
   "cell_type": "code",
   "execution_count": 1,
   "id": "368bd444",
   "metadata": {},
   "outputs": [],
   "source": [
    "import tensorflow as tf\n",
    "from tensorflow import keras\n",
    "from tensorflow.keras.models import Sequential\n",
    "from tensorflow.keras.preprocessing.image import ImageDataGenerator\n",
    "from tensorflow.keras.callbacks import EarlyStopping\n",
    "from tensorflow.keras import layers\n",
    "from sklearn.metrics import classification_report\n",
    "from sklearn.metrics import confusion_matrix\n",
    "import matplotlib.pyplot as plt\n",
    "import numpy"
   ]
  },
  {
   "cell_type": "markdown",
   "id": "016ec12e",
   "metadata": {},
   "source": [
    "## Initialize ImageData Generator"
   ]
  },
  {
   "cell_type": "code",
   "execution_count": 2,
   "id": "360cd96f",
   "metadata": {},
   "outputs": [],
   "source": [
    "training_image_generator = ImageDataGenerator(rescale = 1./255,\n",
    "                                              zoom_range = 0.1,\n",
    "                                              rotation_range = 15,\n",
    "                                              width_shift_range = 0.05,\n",
    "                                              height_shift_range = 0.05,\n",
    "                                              vertical_flip = True\n",
    "                                             )"
   ]
  },
  {
   "cell_type": "markdown",
   "id": "440e75c0",
   "metadata": {},
   "source": [
    "## Load Images "
   ]
  },
  {
   "cell_type": "code",
   "execution_count": 3,
   "id": "5228190a",
   "metadata": {},
   "outputs": [
    {
     "name": "stdout",
     "output_type": "stream",
     "text": [
      "Found 251 images belonging to 3 classes.\n"
     ]
    }
   ],
   "source": [
    "training_iterator = training_image_generator.flow_from_directory('Covid19-dataset/train',\n",
    "                                                                 class_mode = 'categorical',\n",
    "                                                                 color_mode = 'grayscale',\n",
    "                                                                 batch_size = 12,\n",
    "                                                                 target_size = (128, 128)\n",
    "                                                                )"
   ]
  },
  {
   "cell_type": "code",
   "execution_count": 4,
   "id": "eaaee916",
   "metadata": {},
   "outputs": [
    {
     "data": {
      "text/plain": [
       "251"
      ]
     },
     "execution_count": 4,
     "metadata": {},
     "output_type": "execute_result"
    }
   ],
   "source": [
    "training_iterator.samples\n"
   ]
  },
  {
   "cell_type": "code",
   "execution_count": 5,
   "id": "3304db7a",
   "metadata": {},
   "outputs": [],
   "source": [
    "sample_batch_input, sample_labels = training_iterator.next()"
   ]
  },
  {
   "cell_type": "code",
   "execution_count": 6,
   "id": "d06e63f7",
   "metadata": {},
   "outputs": [
    {
     "data": {
      "text/plain": [
       "(12, 128, 128, 1)"
      ]
     },
     "execution_count": 6,
     "metadata": {},
     "output_type": "execute_result"
    }
   ],
   "source": [
    "sample_batch_input.shape"
   ]
  },
  {
   "cell_type": "code",
   "execution_count": 7,
   "id": "0beb6331",
   "metadata": {},
   "outputs": [
    {
     "data": {
      "text/plain": [
       "(12, 3)"
      ]
     },
     "execution_count": 7,
     "metadata": {},
     "output_type": "execute_result"
    }
   ],
   "source": [
    "sample_labels.shape"
   ]
  },
  {
   "cell_type": "markdown",
   "id": "fe37c4f4",
   "metadata": {},
   "source": [
    "## Building the model"
   ]
  },
  {
   "cell_type": "code",
   "execution_count": 8,
   "id": "08803cab",
   "metadata": {},
   "outputs": [],
   "source": [
    "model = tf.keras.Sequential()"
   ]
  },
  {
   "cell_type": "code",
   "execution_count": 9,
   "id": "6317b872",
   "metadata": {},
   "outputs": [
    {
     "name": "stdout",
     "output_type": "stream",
     "text": [
      "Model: \"sequential\"\n",
      "_________________________________________________________________\n",
      " Layer (type)                Output Shape              Param #   \n",
      "=================================================================\n",
      " conv2d (Conv2D)             (None, 43, 43, 8)         80        \n",
      "                                                                 \n",
      " max_pooling2d (MaxPooling2D  (None, 21, 21, 8)        0         \n",
      " )                                                               \n",
      "                                                                 \n",
      " dropout (Dropout)           (None, 21, 21, 8)         0         \n",
      "                                                                 \n",
      " conv2d_1 (Conv2D)           (None, 21, 21, 5)         365       \n",
      "                                                                 \n",
      " max_pooling2d_1 (MaxPooling  (None, 10, 10, 5)        0         \n",
      " 2D)                                                             \n",
      "                                                                 \n",
      " dropout_1 (Dropout)         (None, 10, 10, 5)         0         \n",
      "                                                                 \n",
      " conv2d_2 (Conv2D)           (None, 10, 10, 3)         138       \n",
      "                                                                 \n",
      " conv2d_3 (Conv2D)           (None, 10, 10, 2)         26        \n",
      "                                                                 \n",
      " dropout_2 (Dropout)         (None, 10, 10, 2)         0         \n",
      "                                                                 \n",
      " flatten (Flatten)           (None, 200)               0         \n",
      "                                                                 \n",
      " dense (Dense)               (None, 3)                 603       \n",
      "                                                                 \n",
      "=================================================================\n",
      "Total params: 1,212\n",
      "Trainable params: 1,212\n",
      "Non-trainable params: 0\n",
      "_________________________________________________________________\n"
     ]
    }
   ],
   "source": [
    "model.add(tf.keras.Input(shape = (128, 128, 1)))\n",
    "model.add(layers.Conv2D(8, 3, strides=3, padding = 'same', activation=\"relu\")) \n",
    "model.add(layers.MaxPooling2D(pool_size=(2, 2), strides=(2,2)))\n",
    "model.add(layers.Dropout(0.2))\n",
    "\n",
    "model.add(layers.Conv2D(5, 3, strides=1, padding = 'same', activation=\"relu\")) \n",
    "model.add(layers.MaxPooling2D(pool_size=(2, 2), strides=(2,2)))\n",
    "model.add(layers.Dropout(0.2))\n",
    "\n",
    "model.add(tf.keras.layers.Conv2D(3, 3, strides=1, padding = 'same', activation=\"relu\"))\n",
    "model.add(tf.keras.layers.Conv2D(2, 2, strides=1, padding = 'same', activation=\"relu\"))\n",
    "model.add(tf.keras.layers.Dropout(0.1))\n",
    "\n",
    "model.add(tf.keras.layers.Flatten())\n",
    "model.add(layers.Dense(3,activation=\"softmax\"))\n",
    "model.compile(optimizer=tf.keras.optimizers.Adam(learning_rate=.001), loss=tf.keras.losses.CategoricalCrossentropy(), metrics=[tf.keras.metrics.CategoricalAccuracy(), tf.keras.metrics.AUC()])\n",
    "model.summary()"
   ]
  },
  {
   "cell_type": "markdown",
   "id": "70f9f128",
   "metadata": {},
   "source": [
    "## Initialize image generator"
   ]
  },
  {
   "cell_type": "code",
   "execution_count": 10,
   "id": "60685046",
   "metadata": {},
   "outputs": [],
   "source": [
    "validation_image_generator = ImageDataGenerator(rescale = 1./255)"
   ]
  },
  {
   "cell_type": "code",
   "execution_count": 11,
   "id": "4de4a61a",
   "metadata": {},
   "outputs": [
    {
     "name": "stdout",
     "output_type": "stream",
     "text": [
      "Found 66 images belonging to 3 classes.\n"
     ]
    }
   ],
   "source": [
    "validation_iterator = validation_image_generator.flow_from_directory(\n",
    "                                                                'Covid19-dataset/test', \n",
    "                                                                class_mode = 'categorical', \n",
    "                                                                color_mode = 'grayscale', \n",
    "                                                                batch_size = 12,\n",
    "                                                                target_size = (128, 128)\n",
    "                                                        )"
   ]
  },
  {
   "cell_type": "code",
   "execution_count": 12,
   "id": "d21c37d8",
   "metadata": {},
   "outputs": [
    {
     "data": {
      "text/plain": [
       "66"
      ]
     },
     "execution_count": 12,
     "metadata": {},
     "output_type": "execute_result"
    }
   ],
   "source": [
    "validation_iterator.samples"
   ]
  },
  {
   "cell_type": "markdown",
   "id": "c6108e67",
   "metadata": {},
   "source": [
    "## Train model"
   ]
  },
  {
   "cell_type": "code",
   "execution_count": 13,
   "id": "5cf93dd4",
   "metadata": {},
   "outputs": [],
   "source": [
    "teal = EarlyStopping(monitor = 'val_loss', mode = 'min' , patience = 20,verbose = 1)"
   ]
  },
  {
   "cell_type": "code",
   "execution_count": 14,
   "id": "0c28b204",
   "metadata": {},
   "outputs": [
    {
     "name": "stdout",
     "output_type": "stream",
     "text": [
      "Epoch 1/100\n",
      "20/20 [==============================] - 3s 73ms/step - loss: 1.1190 - categorical_accuracy: 0.3187 - auc: 0.4834 - val_loss: 1.0920 - val_categorical_accuracy: 0.5000 - val_auc: 0.5913\n",
      "Epoch 2/100\n",
      "20/20 [==============================] - 1s 62ms/step - loss: 1.0923 - categorical_accuracy: 0.3546 - auc: 0.5445 - val_loss: 1.0898 - val_categorical_accuracy: 0.4091 - val_auc: 0.5888\n",
      "Epoch 3/100\n",
      "20/20 [==============================] - 1s 68ms/step - loss: 1.0875 - categorical_accuracy: 0.4064 - auc: 0.5689 - val_loss: 1.0893 - val_categorical_accuracy: 0.3939 - val_auc: 0.5901\n",
      "Epoch 4/100\n",
      "20/20 [==============================] - 1s 59ms/step - loss: 1.0789 - categorical_accuracy: 0.4263 - auc: 0.5925 - val_loss: 1.0877 - val_categorical_accuracy: 0.3939 - val_auc: 0.5811\n",
      "Epoch 5/100\n",
      "20/20 [==============================] - 1s 55ms/step - loss: 1.0944 - categorical_accuracy: 0.4303 - auc: 0.5393 - val_loss: 1.0879 - val_categorical_accuracy: 0.3939 - val_auc: 0.5765\n",
      "Epoch 6/100\n",
      "20/20 [==============================] - 1s 53ms/step - loss: 1.0763 - categorical_accuracy: 0.4303 - auc: 0.5805 - val_loss: 1.0865 - val_categorical_accuracy: 0.3939 - val_auc: 0.5934\n",
      "Epoch 7/100\n",
      "20/20 [==============================] - 1s 54ms/step - loss: 1.0740 - categorical_accuracy: 0.4422 - auc: 0.5885 - val_loss: 1.0842 - val_categorical_accuracy: 0.3939 - val_auc: 0.6150\n",
      "Epoch 8/100\n",
      "20/20 [==============================] - 1s 56ms/step - loss: 1.0708 - categorical_accuracy: 0.4422 - auc: 0.5962 - val_loss: 1.0817 - val_categorical_accuracy: 0.3939 - val_auc: 0.6372\n",
      "Epoch 9/100\n",
      "20/20 [==============================] - 1s 56ms/step - loss: 1.0686 - categorical_accuracy: 0.4422 - auc: 0.6008 - val_loss: 1.0749 - val_categorical_accuracy: 0.3939 - val_auc: 0.6595\n",
      "Epoch 10/100\n",
      "20/20 [==============================] - 1s 57ms/step - loss: 1.0685 - categorical_accuracy: 0.4422 - auc: 0.6028 - val_loss: 1.0707 - val_categorical_accuracy: 0.3939 - val_auc: 0.6907\n",
      "Epoch 11/100\n",
      "20/20 [==============================] - 1s 60ms/step - loss: 1.0457 - categorical_accuracy: 0.4422 - auc: 0.6452 - val_loss: 1.0492 - val_categorical_accuracy: 0.3939 - val_auc: 0.7177\n",
      "Epoch 12/100\n",
      "20/20 [==============================] - 1s 54ms/step - loss: 1.0520 - categorical_accuracy: 0.4422 - auc: 0.6314 - val_loss: 1.0208 - val_categorical_accuracy: 0.3939 - val_auc: 0.7265\n",
      "Epoch 13/100\n",
      "20/20 [==============================] - 1s 53ms/step - loss: 1.0199 - categorical_accuracy: 0.4741 - auc: 0.6783 - val_loss: 0.9813 - val_categorical_accuracy: 0.5152 - val_auc: 0.7495\n",
      "Epoch 14/100\n",
      "20/20 [==============================] - 1s 53ms/step - loss: 0.9494 - categorical_accuracy: 0.5657 - auc: 0.7557 - val_loss: 0.8898 - val_categorical_accuracy: 0.5455 - val_auc: 0.7992\n",
      "Epoch 15/100\n",
      "20/20 [==============================] - 1s 53ms/step - loss: 0.8471 - categorical_accuracy: 0.6454 - auc: 0.7995 - val_loss: 0.8143 - val_categorical_accuracy: 0.6667 - val_auc: 0.8726\n",
      "Epoch 16/100\n",
      "20/20 [==============================] - 1s 53ms/step - loss: 0.8372 - categorical_accuracy: 0.5936 - auc: 0.7983 - val_loss: 0.7797 - val_categorical_accuracy: 0.6515 - val_auc: 0.8499\n",
      "Epoch 17/100\n",
      "20/20 [==============================] - 1s 55ms/step - loss: 0.7754 - categorical_accuracy: 0.6335 - auc: 0.8324 - val_loss: 0.6940 - val_categorical_accuracy: 0.6970 - val_auc: 0.8920\n",
      "Epoch 18/100\n",
      "20/20 [==============================] - 1s 58ms/step - loss: 0.7345 - categorical_accuracy: 0.6733 - auc: 0.8489 - val_loss: 0.6921 - val_categorical_accuracy: 0.6818 - val_auc: 0.8728\n",
      "Epoch 19/100\n",
      "20/20 [==============================] - 1s 60ms/step - loss: 0.7214 - categorical_accuracy: 0.7012 - auc: 0.8557 - val_loss: 0.6358 - val_categorical_accuracy: 0.7273 - val_auc: 0.9028\n",
      "Epoch 20/100\n",
      "20/20 [==============================] - 1s 61ms/step - loss: 0.6769 - categorical_accuracy: 0.6853 - auc: 0.8705 - val_loss: 0.6937 - val_categorical_accuracy: 0.6667 - val_auc: 0.8677\n",
      "Epoch 21/100\n",
      "20/20 [==============================] - 1s 58ms/step - loss: 0.6577 - categorical_accuracy: 0.7211 - auc: 0.8805 - val_loss: 0.6238 - val_categorical_accuracy: 0.7121 - val_auc: 0.8968\n",
      "Epoch 22/100\n",
      "20/20 [==============================] - 1s 57ms/step - loss: 0.6351 - categorical_accuracy: 0.6932 - auc: 0.8866 - val_loss: 0.6068 - val_categorical_accuracy: 0.7273 - val_auc: 0.8971\n",
      "Epoch 23/100\n",
      "20/20 [==============================] - 1s 54ms/step - loss: 0.6165 - categorical_accuracy: 0.7490 - auc: 0.8941 - val_loss: 0.6648 - val_categorical_accuracy: 0.6667 - val_auc: 0.8711\n",
      "Epoch 24/100\n",
      "20/20 [==============================] - 1s 55ms/step - loss: 0.6000 - categorical_accuracy: 0.7171 - auc: 0.8992 - val_loss: 0.6084 - val_categorical_accuracy: 0.7121 - val_auc: 0.8973\n",
      "Epoch 25/100\n",
      "20/20 [==============================] - 1s 58ms/step - loss: 0.6302 - categorical_accuracy: 0.7371 - auc: 0.8885 - val_loss: 0.5805 - val_categorical_accuracy: 0.7121 - val_auc: 0.9077\n",
      "Epoch 26/100\n",
      "20/20 [==============================] - 1s 54ms/step - loss: 0.5704 - categorical_accuracy: 0.7769 - auc: 0.9126 - val_loss: 0.5543 - val_categorical_accuracy: 0.7576 - val_auc: 0.9144\n",
      "Epoch 27/100\n",
      "20/20 [==============================] - 1s 56ms/step - loss: 0.5401 - categorical_accuracy: 0.8048 - auc: 0.9224 - val_loss: 0.5907 - val_categorical_accuracy: 0.7273 - val_auc: 0.9019\n",
      "Epoch 28/100\n",
      "20/20 [==============================] - 1s 57ms/step - loss: 0.6134 - categorical_accuracy: 0.7371 - auc: 0.8963 - val_loss: 0.5576 - val_categorical_accuracy: 0.7879 - val_auc: 0.9254\n",
      "Epoch 29/100\n",
      "20/20 [==============================] - 1s 61ms/step - loss: 0.5269 - categorical_accuracy: 0.7809 - auc: 0.9257 - val_loss: 0.5812 - val_categorical_accuracy: 0.7424 - val_auc: 0.9062\n",
      "Epoch 30/100\n",
      "20/20 [==============================] - 1s 69ms/step - loss: 0.4804 - categorical_accuracy: 0.8127 - auc: 0.9395 - val_loss: 0.5234 - val_categorical_accuracy: 0.7424 - val_auc: 0.9239\n",
      "Epoch 31/100\n",
      "20/20 [==============================] - 1s 67ms/step - loss: 0.5563 - categorical_accuracy: 0.7570 - auc: 0.9131 - val_loss: 0.5358 - val_categorical_accuracy: 0.8333 - val_auc: 0.9329\n",
      "Epoch 32/100\n",
      "20/20 [==============================] - 1s 64ms/step - loss: 0.5415 - categorical_accuracy: 0.7689 - auc: 0.9159 - val_loss: 0.5595 - val_categorical_accuracy: 0.7879 - val_auc: 0.9127\n",
      "Epoch 33/100\n",
      "20/20 [==============================] - 1s 59ms/step - loss: 0.5154 - categorical_accuracy: 0.7888 - auc: 0.9249 - val_loss: 0.5492 - val_categorical_accuracy: 0.7576 - val_auc: 0.9145\n",
      "Epoch 34/100\n",
      "20/20 [==============================] - 1s 59ms/step - loss: 0.5124 - categorical_accuracy: 0.7888 - auc: 0.9279 - val_loss: 0.5618 - val_categorical_accuracy: 0.7879 - val_auc: 0.9191\n",
      "Epoch 35/100\n",
      "20/20 [==============================] - 1s 66ms/step - loss: 0.4986 - categorical_accuracy: 0.8088 - auc: 0.9328 - val_loss: 0.5647 - val_categorical_accuracy: 0.7424 - val_auc: 0.9113\n",
      "Epoch 36/100\n",
      "20/20 [==============================] - 1s 68ms/step - loss: 0.4525 - categorical_accuracy: 0.8327 - auc: 0.9444 - val_loss: 0.5050 - val_categorical_accuracy: 0.8333 - val_auc: 0.9369\n",
      "Epoch 37/100\n",
      "20/20 [==============================] - 1s 57ms/step - loss: 0.4795 - categorical_accuracy: 0.7928 - auc: 0.9371 - val_loss: 0.5792 - val_categorical_accuracy: 0.7121 - val_auc: 0.9069\n",
      "Epoch 38/100\n",
      "20/20 [==============================] - 1s 57ms/step - loss: 0.5142 - categorical_accuracy: 0.7610 - auc: 0.9255 - val_loss: 0.5407 - val_categorical_accuracy: 0.8030 - val_auc: 0.9171\n",
      "Epoch 39/100\n",
      "20/20 [==============================] - 1s 56ms/step - loss: 0.4231 - categorical_accuracy: 0.8167 - auc: 0.9512 - val_loss: 0.5137 - val_categorical_accuracy: 0.8182 - val_auc: 0.9268\n",
      "Epoch 40/100\n",
      "20/20 [==============================] - 1s 56ms/step - loss: 0.4351 - categorical_accuracy: 0.8327 - auc: 0.9472 - val_loss: 0.5529 - val_categorical_accuracy: 0.7576 - val_auc: 0.9149\n",
      "Epoch 41/100\n",
      "20/20 [==============================] - 1s 56ms/step - loss: 0.3870 - categorical_accuracy: 0.8526 - auc: 0.9584 - val_loss: 0.5291 - val_categorical_accuracy: 0.8030 - val_auc: 0.9234\n",
      "Epoch 42/100\n"
     ]
    },
    {
     "name": "stdout",
     "output_type": "stream",
     "text": [
      "20/20 [==============================] - 1s 54ms/step - loss: 0.4867 - categorical_accuracy: 0.7769 - auc: 0.9316 - val_loss: 0.5153 - val_categorical_accuracy: 0.8030 - val_auc: 0.9330\n",
      "Epoch 43/100\n",
      "20/20 [==============================] - 1s 53ms/step - loss: 0.4635 - categorical_accuracy: 0.8088 - auc: 0.9417 - val_loss: 0.5871 - val_categorical_accuracy: 0.7424 - val_auc: 0.9059\n",
      "Epoch 44/100\n",
      "20/20 [==============================] - 1s 55ms/step - loss: 0.4682 - categorical_accuracy: 0.8167 - auc: 0.9388 - val_loss: 0.4934 - val_categorical_accuracy: 0.8182 - val_auc: 0.9346\n",
      "Epoch 45/100\n",
      "20/20 [==============================] - 1s 58ms/step - loss: 0.4232 - categorical_accuracy: 0.8526 - auc: 0.9541 - val_loss: 0.4964 - val_categorical_accuracy: 0.8182 - val_auc: 0.9351\n",
      "Epoch 46/100\n",
      "20/20 [==============================] - 1s 55ms/step - loss: 0.4082 - categorical_accuracy: 0.8327 - auc: 0.9529 - val_loss: 0.5041 - val_categorical_accuracy: 0.8030 - val_auc: 0.9291\n",
      "Epoch 47/100\n",
      "20/20 [==============================] - 1s 59ms/step - loss: 0.4245 - categorical_accuracy: 0.8367 - auc: 0.9529 - val_loss: 0.5036 - val_categorical_accuracy: 0.8485 - val_auc: 0.9454\n",
      "Epoch 48/100\n",
      "20/20 [==============================] - 1s 60ms/step - loss: 0.4319 - categorical_accuracy: 0.8207 - auc: 0.9482 - val_loss: 0.4682 - val_categorical_accuracy: 0.8485 - val_auc: 0.9470\n",
      "Epoch 49/100\n",
      "20/20 [==============================] - 1s 55ms/step - loss: 0.4104 - categorical_accuracy: 0.8327 - auc: 0.9527 - val_loss: 0.4736 - val_categorical_accuracy: 0.8485 - val_auc: 0.9442\n",
      "Epoch 50/100\n",
      "20/20 [==============================] - 1s 54ms/step - loss: 0.3721 - categorical_accuracy: 0.8685 - auc: 0.9620 - val_loss: 0.4811 - val_categorical_accuracy: 0.8182 - val_auc: 0.9369\n",
      "Epoch 51/100\n",
      "20/20 [==============================] - 1s 56ms/step - loss: 0.3892 - categorical_accuracy: 0.8486 - auc: 0.9580 - val_loss: 0.4879 - val_categorical_accuracy: 0.8030 - val_auc: 0.9414\n",
      "Epoch 52/100\n",
      "20/20 [==============================] - 1s 61ms/step - loss: 0.4563 - categorical_accuracy: 0.8287 - auc: 0.9427 - val_loss: 0.4762 - val_categorical_accuracy: 0.8485 - val_auc: 0.9428\n",
      "Epoch 53/100\n",
      "20/20 [==============================] - 1s 56ms/step - loss: 0.3854 - categorical_accuracy: 0.8327 - auc: 0.9597 - val_loss: 0.4525 - val_categorical_accuracy: 0.8333 - val_auc: 0.9428\n",
      "Epoch 54/100\n",
      "20/20 [==============================] - 1s 56ms/step - loss: 0.4412 - categorical_accuracy: 0.8048 - auc: 0.9471 - val_loss: 0.4702 - val_categorical_accuracy: 0.8030 - val_auc: 0.9438\n",
      "Epoch 55/100\n",
      "20/20 [==============================] - 1s 55ms/step - loss: 0.4292 - categorical_accuracy: 0.8606 - auc: 0.9489 - val_loss: 0.4761 - val_categorical_accuracy: 0.8333 - val_auc: 0.9392\n",
      "Epoch 56/100\n",
      "20/20 [==============================] - 1s 55ms/step - loss: 0.3775 - categorical_accuracy: 0.8685 - auc: 0.9615 - val_loss: 0.4702 - val_categorical_accuracy: 0.8636 - val_auc: 0.9520\n",
      "Epoch 57/100\n",
      "20/20 [==============================] - 1s 54ms/step - loss: 0.4198 - categorical_accuracy: 0.8207 - auc: 0.9503 - val_loss: 0.4596 - val_categorical_accuracy: 0.8182 - val_auc: 0.9407\n",
      "Epoch 58/100\n",
      "20/20 [==============================] - 1s 55ms/step - loss: 0.4368 - categorical_accuracy: 0.8167 - auc: 0.9470 - val_loss: 0.4771 - val_categorical_accuracy: 0.8333 - val_auc: 0.9406\n",
      "Epoch 59/100\n",
      "20/20 [==============================] - 1s 59ms/step - loss: 0.3761 - categorical_accuracy: 0.8645 - auc: 0.9637 - val_loss: 0.4583 - val_categorical_accuracy: 0.8182 - val_auc: 0.9419\n",
      "Epoch 60/100\n",
      "20/20 [==============================] - 1s 60ms/step - loss: 0.4309 - categorical_accuracy: 0.8287 - auc: 0.9490 - val_loss: 0.4803 - val_categorical_accuracy: 0.7879 - val_auc: 0.9371\n",
      "Epoch 61/100\n",
      "20/20 [==============================] - 1s 59ms/step - loss: 0.3566 - categorical_accuracy: 0.8645 - auc: 0.9649 - val_loss: 0.4510 - val_categorical_accuracy: 0.8333 - val_auc: 0.9441\n",
      "Epoch 62/100\n",
      "20/20 [==============================] - 1s 59ms/step - loss: 0.4038 - categorical_accuracy: 0.8287 - auc: 0.9551 - val_loss: 0.5026 - val_categorical_accuracy: 0.7879 - val_auc: 0.9341\n",
      "Epoch 63/100\n",
      "20/20 [==============================] - 1s 57ms/step - loss: 0.4492 - categorical_accuracy: 0.8327 - auc: 0.9441 - val_loss: 0.5254 - val_categorical_accuracy: 0.7424 - val_auc: 0.9210\n",
      "Epoch 64/100\n",
      "20/20 [==============================] - 1s 58ms/step - loss: 0.3619 - categorical_accuracy: 0.8606 - auc: 0.9633 - val_loss: 0.4800 - val_categorical_accuracy: 0.7879 - val_auc: 0.9400\n",
      "Epoch 65/100\n",
      "20/20 [==============================] - 1s 59ms/step - loss: 0.3547 - categorical_accuracy: 0.8566 - auc: 0.9652 - val_loss: 0.4505 - val_categorical_accuracy: 0.8333 - val_auc: 0.9435\n",
      "Epoch 66/100\n",
      "20/20 [==============================] - 1s 60ms/step - loss: 0.3807 - categorical_accuracy: 0.8805 - auc: 0.9603 - val_loss: 0.4644 - val_categorical_accuracy: 0.8182 - val_auc: 0.9387\n",
      "Epoch 67/100\n",
      "20/20 [==============================] - 1s 58ms/step - loss: 0.3733 - categorical_accuracy: 0.8645 - auc: 0.9609 - val_loss: 0.4899 - val_categorical_accuracy: 0.8030 - val_auc: 0.9389\n",
      "Epoch 68/100\n",
      "20/20 [==============================] - 1s 56ms/step - loss: 0.3598 - categorical_accuracy: 0.8247 - auc: 0.9637 - val_loss: 0.4500 - val_categorical_accuracy: 0.8182 - val_auc: 0.9476\n",
      "Epoch 69/100\n",
      "20/20 [==============================] - 1s 59ms/step - loss: 0.3849 - categorical_accuracy: 0.8606 - auc: 0.9589 - val_loss: 0.4855 - val_categorical_accuracy: 0.8030 - val_auc: 0.9400\n",
      "Epoch 70/100\n",
      "20/20 [==============================] - 1s 60ms/step - loss: 0.3691 - categorical_accuracy: 0.8566 - auc: 0.9627 - val_loss: 0.4639 - val_categorical_accuracy: 0.8182 - val_auc: 0.9413\n",
      "Epoch 71/100\n",
      "20/20 [==============================] - 1s 59ms/step - loss: 0.3495 - categorical_accuracy: 0.8765 - auc: 0.9656 - val_loss: 0.4862 - val_categorical_accuracy: 0.8030 - val_auc: 0.9352\n",
      "Epoch 72/100\n",
      "20/20 [==============================] - 1s 57ms/step - loss: 0.3838 - categorical_accuracy: 0.8327 - auc: 0.9600 - val_loss: 0.4708 - val_categorical_accuracy: 0.8030 - val_auc: 0.9384\n",
      "Epoch 73/100\n",
      "20/20 [==============================] - 1s 58ms/step - loss: 0.3791 - categorical_accuracy: 0.8367 - auc: 0.9629 - val_loss: 0.4925 - val_categorical_accuracy: 0.7727 - val_auc: 0.9404\n",
      "Epoch 74/100\n",
      "20/20 [==============================] - 1s 56ms/step - loss: 0.4044 - categorical_accuracy: 0.8486 - auc: 0.9567 - val_loss: 0.4702 - val_categorical_accuracy: 0.8030 - val_auc: 0.9376\n",
      "Epoch 75/100\n",
      "20/20 [==============================] - 1s 62ms/step - loss: 0.3846 - categorical_accuracy: 0.8446 - auc: 0.9580 - val_loss: 0.4480 - val_categorical_accuracy: 0.8333 - val_auc: 0.9494\n",
      "Epoch 76/100\n",
      "20/20 [==============================] - 1s 59ms/step - loss: 0.3809 - categorical_accuracy: 0.8645 - auc: 0.9599 - val_loss: 0.4273 - val_categorical_accuracy: 0.8333 - val_auc: 0.9492\n",
      "Epoch 77/100\n",
      "20/20 [==============================] - 1s 58ms/step - loss: 0.3608 - categorical_accuracy: 0.8486 - auc: 0.9648 - val_loss: 0.4667 - val_categorical_accuracy: 0.8485 - val_auc: 0.9492\n",
      "Epoch 78/100\n",
      "20/20 [==============================] - 1s 58ms/step - loss: 0.3607 - categorical_accuracy: 0.8645 - auc: 0.9648 - val_loss: 0.4901 - val_categorical_accuracy: 0.7879 - val_auc: 0.9354\n",
      "Epoch 79/100\n",
      "20/20 [==============================] - 1s 61ms/step - loss: 0.3185 - categorical_accuracy: 0.8645 - auc: 0.9736 - val_loss: 0.5068 - val_categorical_accuracy: 0.8333 - val_auc: 0.9396\n",
      "Epoch 80/100\n",
      "20/20 [==============================] - 1s 56ms/step - loss: 0.3134 - categorical_accuracy: 0.8805 - auc: 0.9744 - val_loss: 0.5272 - val_categorical_accuracy: 0.7273 - val_auc: 0.9237\n",
      "Epoch 81/100\n",
      "20/20 [==============================] - 1s 55ms/step - loss: 0.3341 - categorical_accuracy: 0.8645 - auc: 0.9698 - val_loss: 0.4360 - val_categorical_accuracy: 0.8636 - val_auc: 0.9508\n",
      "Epoch 82/100\n",
      "20/20 [==============================] - 1s 56ms/step - loss: 0.3684 - categorical_accuracy: 0.8446 - auc: 0.9615 - val_loss: 0.4912 - val_categorical_accuracy: 0.7727 - val_auc: 0.9370\n",
      "Epoch 83/100\n"
     ]
    },
    {
     "name": "stdout",
     "output_type": "stream",
     "text": [
      "20/20 [==============================] - 1s 57ms/step - loss: 0.3443 - categorical_accuracy: 0.8446 - auc: 0.9656 - val_loss: 0.4629 - val_categorical_accuracy: 0.8030 - val_auc: 0.9426\n",
      "Epoch 84/100\n",
      "20/20 [==============================] - 1s 54ms/step - loss: 0.3510 - categorical_accuracy: 0.8725 - auc: 0.9669 - val_loss: 0.5011 - val_categorical_accuracy: 0.7727 - val_auc: 0.9319\n",
      "Epoch 85/100\n",
      "20/20 [==============================] - 1s 61ms/step - loss: 0.3506 - categorical_accuracy: 0.8486 - auc: 0.9668 - val_loss: 0.4658 - val_categorical_accuracy: 0.8030 - val_auc: 0.9463\n",
      "Epoch 86/100\n",
      "20/20 [==============================] - 1s 59ms/step - loss: 0.3814 - categorical_accuracy: 0.8606 - auc: 0.9587 - val_loss: 0.4760 - val_categorical_accuracy: 0.7879 - val_auc: 0.9387\n",
      "Epoch 87/100\n",
      "20/20 [==============================] - 1s 55ms/step - loss: 0.3255 - categorical_accuracy: 0.8884 - auc: 0.9701 - val_loss: 0.4616 - val_categorical_accuracy: 0.8182 - val_auc: 0.9488\n",
      "Epoch 88/100\n",
      "20/20 [==============================] - 1s 55ms/step - loss: 0.3600 - categorical_accuracy: 0.8645 - auc: 0.9630 - val_loss: 0.4607 - val_categorical_accuracy: 0.8182 - val_auc: 0.9416\n",
      "Epoch 89/100\n",
      "20/20 [==============================] - 1s 56ms/step - loss: 0.3924 - categorical_accuracy: 0.8247 - auc: 0.9567 - val_loss: 0.4413 - val_categorical_accuracy: 0.8636 - val_auc: 0.9516\n",
      "Epoch 90/100\n",
      "20/20 [==============================] - 1s 56ms/step - loss: 0.3196 - categorical_accuracy: 0.8805 - auc: 0.9709 - val_loss: 0.5334 - val_categorical_accuracy: 0.7121 - val_auc: 0.9226\n",
      "Epoch 91/100\n",
      "20/20 [==============================] - 1s 57ms/step - loss: 0.3287 - categorical_accuracy: 0.8725 - auc: 0.9699 - val_loss: 0.4881 - val_categorical_accuracy: 0.8182 - val_auc: 0.9384\n",
      "Epoch 92/100\n",
      "20/20 [==============================] - 1s 57ms/step - loss: 0.3080 - categorical_accuracy: 0.8606 - auc: 0.9725 - val_loss: 0.4813 - val_categorical_accuracy: 0.7879 - val_auc: 0.9361\n",
      "Epoch 93/100\n",
      "20/20 [==============================] - 1s 62ms/step - loss: 0.3386 - categorical_accuracy: 0.8566 - auc: 0.9679 - val_loss: 0.4631 - val_categorical_accuracy: 0.8333 - val_auc: 0.9481\n",
      "Epoch 94/100\n",
      "20/20 [==============================] - 1s 56ms/step - loss: 0.3139 - categorical_accuracy: 0.8924 - auc: 0.9728 - val_loss: 0.4600 - val_categorical_accuracy: 0.7727 - val_auc: 0.9410\n",
      "Epoch 95/100\n",
      "20/20 [==============================] - 1s 64ms/step - loss: 0.3056 - categorical_accuracy: 0.8884 - auc: 0.9736 - val_loss: 0.4529 - val_categorical_accuracy: 0.8333 - val_auc: 0.9494\n",
      "Epoch 96/100\n",
      "20/20 [==============================] - 1s 58ms/step - loss: 0.3236 - categorical_accuracy: 0.8845 - auc: 0.9717 - val_loss: 0.4949 - val_categorical_accuracy: 0.7879 - val_auc: 0.9360\n",
      "Epoch 00096: early stopping\n"
     ]
    }
   ],
   "source": [
    "history = model.fit(training_iterator,\n",
    "                    steps_per_epoch=training_iterator.samples/12, epochs=100,\n",
    "                    validation_data=validation_iterator,\n",
    "                    validation_steps=validation_iterator.samples/12,\n",
    "                    callbacks=[teal])"
   ]
  },
  {
   "cell_type": "markdown",
   "id": "3ba8d7ec",
   "metadata": {},
   "source": [
    "## Visualize trained model"
   ]
  },
  {
   "cell_type": "code",
   "execution_count": 15,
   "id": "6a84ce6a",
   "metadata": {},
   "outputs": [
    {
     "data": {
      "image/png": "[encoded data removed]",
      "text/plain": [
       "<Figure size 432x288 with 1 Axes>"
      ]
     },
     "metadata": {
      "needs_background": "light"
     },
     "output_type": "display_data"
    }
   ],
   "source": [
    "plt.plot(history.history['categorical_accuracy'])\n",
    "plt.plot(history.history['val_categorical_accuracy'])\n",
    "plt.title('model accuracy')\n",
    "plt.xlabel('epoch')\n",
    "plt.ylabel('accuracy')\n",
    "plt.legend(['train', 'validation'], loc='lower right')\n",
    "plt.show()"
   ]
  },
  {
   "cell_type": "code",
   "execution_count": 16,
   "id": "6ef711d5",
   "metadata": {},
   "outputs": [
    {
     "data": {
      "image/png": "[encoded data removed]",
      "text/plain": [
       "<Figure size 432x288 with 1 Axes>"
      ]
     },
     "metadata": {
      "needs_background": "light"
     },
     "output_type": "display_data"
    }
   ],
   "source": [
    "plt.plot(history.history['auc'])\n",
    "plt.plot(history.history['val_auc'])\n",
    "plt.title('model auc')\n",
    "plt.xlabel('epoch')\n",
    "plt.ylabel('auc')\n",
    "plt.legend(['train', 'validation'], loc='lower right')\n",
    "plt.show()"
   ]
  },
  {
   "cell_type": "code",
   "execution_count": 17,
   "id": "f06db9f5",
   "metadata": {},
   "outputs": [
    {
     "name": "stdout",
     "output_type": "stream",
     "text": [
      "              precision    recall  f1-score   support\n",
      "\n",
      "       Covid       0.29      0.23      0.26        26\n",
      "      Normal       0.37      0.35      0.36        20\n",
      "   Pneumonia       0.31      0.40      0.35        20\n",
      "\n",
      "    accuracy                           0.32        66\n",
      "   macro avg       0.32      0.33      0.32        66\n",
      "weighted avg       0.32      0.32      0.31        66\n",
      "\n"
     ]
    }
   ],
   "source": [
    "test_steps_per_epoch = numpy.math.ceil(validation_iterator.samples / validation_iterator.batch_size)\n",
    "predictions = model.predict(validation_iterator, steps=test_steps_per_epoch)\n",
    "predicted_class = numpy.argmax(predictions, axis=1)\n",
    "true_classes = validation_iterator.classes\n",
    "class_labels = list(validation_iterator.class_indices.keys())\n",
    "final_report = classification_report(true_classes, predicted_class, target_names=class_labels)\n",
    "print(final_report)"
   ]
  },
  {
   "cell_type": "code",
   "execution_count": 18,
   "id": "9ef287c4",
   "metadata": {},
   "outputs": [
    {
     "name": "stdout",
     "output_type": "stream",
     "text": [
      "[[ 6  7 13]\n",
      " [ 8  7  5]\n",
      " [ 7  5  8]]\n"
     ]
    }
   ],
   "source": [
    "cm=confusion_matrix(true_classes,predicted_class)\n",
    "print(cm)"
   ]
  }
 ],
 "metadata": {
  "kernelspec": {
   "display_name": "Python 3",
   "language": "python",
   "name": "python3"
  },
  "language_info": {
   "codemirror_mode": {
    "name": "ipython",
    "version": 3
   },
   "file_extension": ".py",
   "mimetype": "text/x-python",
   "name": "python",
   "nbconvert_exporter": "python",
   "pygments_lexer": "ipython3",
   "version": "3.8.8"
  }
 },
 "nbformat": 4,
 "nbformat_minor": 5
}
